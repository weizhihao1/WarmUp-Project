{
 "cells": [
  {
   "cell_type": "code",
   "execution_count": 1,
   "metadata": {},
   "outputs": [],
   "source": [
    "import torch\n",
    "import torch.nn as nn\n",
    "import torch.optim as optim\n",
    "from torch.utils.data import Subset, Dataset, DataLoader\n",
    "import pandas as pd\n",
    "import numpy as np\n",
    "from sklearn.metrics import accuracy_score\n",
    "import matplotlib.pyplot as plt\n",
    "from sklearn.model_selection import train_test_split\n",
    "from sklearn import svm\n",
    "\n",
    "\n",
    "class MoannaDataset(Dataset):\n",
    "    def __init__(self, data_file, label_file):\n",
    "        self.data = pd.read_csv(data_file, sep=',', header=0, index_col=0).values\n",
    "        self.label = pd.read_csv(label_file, header=0, index_col=0).values[:,1]\n",
    "        # self.data = torch.from_numpy(self.data).float().to(device)\n",
    "        self.label = self.label.astype(int)\n",
    "        # self.label = torch.from_numpy(self.label).long().to(device)\n",
    "\n",
    "    def __len__(self):\n",
    "        return len(self.label)\n",
    "\n",
    "    def __getitem__(self, idx):\n",
    "        return self.data[idx], self.label[idx]\n",
    "\n"
   ]
  },
  {
   "cell_type": "code",
   "execution_count": 3,
   "metadata": {},
   "outputs": [],
   "source": [
    "data_file = '/home/intern/WarmUpProject/p-tcga_binary_mutation.csv'\n",
    "label_file = '/home/intern/WarmUpProject/pp-TCGA-clinical.csv'\n",
    "\n",
    "dataset = MoannaDataset(data_file, label_file)\n",
    "\n",
    "X = dataset.data\n",
    "y = dataset.label\n",
    "\n",
    "X_train, X_test, y_train, y_test = train_test_split(X, y, test_size=0.3, random_state=42)"
   ]
  },
  {
   "cell_type": "code",
   "execution_count": 20,
   "metadata": {},
   "outputs": [
    {
     "name": "stdout",
     "output_type": "stream",
     "text": [
      "Accuracy: 0.39628277464321277\n"
     ]
    }
   ],
   "source": [
    "clf = svm.SVC(kernel='linear')\n",
    "clf.fit(X_train, y_train)\n",
    "\n",
    "y_pred = clf.predict(X_test)\n",
    "\n",
    "accuracy = accuracy_score(y_test, y_pred)\n",
    "print(\"Accuracy:\", accuracy)"
   ]
  },
  {
   "cell_type": "code",
   "execution_count": 27,
   "metadata": {},
   "outputs": [
    {
     "data": {
      "text/plain": [
       "3013"
      ]
     },
     "execution_count": 27,
     "metadata": {},
     "output_type": "execute_result"
    }
   ],
   "source": [
    "len(y_pred)"
   ]
  },
  {
   "cell_type": "code",
   "execution_count": 4,
   "metadata": {},
   "outputs": [
    {
     "name": "stdout",
     "output_type": "stream",
     "text": [
      "Accuracy: 32.79%\n"
     ]
    }
   ],
   "source": [
    "# 创建SVM模型\n",
    "clf = svm.SVC(C=1.0, kernel='rbf', gamma='scale', tol=0.1, class_weight=None)\n",
    "\n",
    "# 训练模型\n",
    "clf.fit(X_train, y_train)\n",
    "\n",
    "# 预测测试集\n",
    "y_pred = clf.predict(X_test)\n",
    "\n",
    "# 计算准确率、精确率、召回率等指标\n",
    "acc = accuracy_score(y_test, y_pred)\n",
    "\n",
    "# 输出指标\n",
    "print(\"Accuracy: {:.2f}%\".format(acc * 100))\n"
   ]
  },
  {
   "cell_type": "code",
   "execution_count": 5,
   "metadata": {},
   "outputs": [
    {
     "name": "stdout",
     "output_type": "stream",
     "text": [
      "Best parameters: {'C': 10, 'gamma': 0.01, 'kernel': 'rbf'}\n",
      "Best score: 0.395412732305259\n",
      "Test set accuracy: 0.42183869897112514\n"
     ]
    }
   ],
   "source": [
    "from sklearn.model_selection import GridSearchCV\n",
    "from sklearn.svm import SVC\n",
    "\n",
    "# Define parameter grid\n",
    "param_grid = {'C': [0.1, 1, 10], 'gamma': [0.01, 0.1, 1], 'kernel': ['linear','rbf']}\n",
    "\n",
    "# Split training set into training and validation sets for cross-validation\n",
    "X_train_cv, X_val, y_train_cv, y_val = train_test_split(X_train, y_train, test_size=0.2, random_state=42)\n",
    "\n",
    "# Create SVM model\n",
    "svm = SVC()\n",
    "\n",
    "# Create GridSearchCV object\n",
    "grid_search = GridSearchCV(estimator=svm, param_grid=param_grid, cv=5, scoring='accuracy')\n",
    "\n",
    "# Fit GridSearchCV object to training set\n",
    "grid_search.fit(X_train_cv, y_train_cv)\n",
    "\n",
    "# Print best parameters and best score\n",
    "print('Best parameters:', grid_search.best_params_)\n",
    "print('Best score:', grid_search.best_score_)\n",
    "\n",
    "# Train SVM model with best hyperparameters on full training set\n",
    "svm_best = SVC(C=grid_search.best_params_['C'], gamma=grid_search.best_params_['gamma'], kernel=grid_search.best_params_['kernel'])\n",
    "svm_best.fit(X_train, y_train)\n",
    "\n",
    "# Evaluate SVM model on test set\n",
    "y_pred = svm_best.predict(X_test)\n",
    "accuracy = accuracy_score(y_test, y_pred)\n",
    "print('Test set accuracy:', accuracy)"
   ]
  }
 ],
 "metadata": {
  "kernelspec": {
   "display_name": "base",
   "language": "python",
   "name": "python3"
  },
  "language_info": {
   "codemirror_mode": {
    "name": "ipython",
    "version": 3
   },
   "file_extension": ".py",
   "mimetype": "text/x-python",
   "name": "python",
   "nbconvert_exporter": "python",
   "pygments_lexer": "ipython3",
   "version": "3.9.7"
  },
  "orig_nbformat": 4
 },
 "nbformat": 4,
 "nbformat_minor": 2
}
