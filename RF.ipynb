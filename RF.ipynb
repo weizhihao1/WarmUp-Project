{
 "cells": [
  {
   "cell_type": "code",
   "execution_count": 1,
   "metadata": {},
   "outputs": [],
   "source": [
    "import torch\n",
    "import torch.nn as nn\n",
    "import torch.optim as optim\n",
    "from torch.utils.data import Subset, Dataset, DataLoader\n",
    "import pandas as pd\n",
    "import numpy as np\n",
    "from sklearn.metrics import accuracy_score\n",
    "import matplotlib.pyplot as plt\n",
    "from sklearn.model_selection import train_test_split\n",
    "from sklearn.ensemble import RandomForestClassifier\n",
    "\n",
    "\n",
    "class MoannaDataset(Dataset):\n",
    "    def __init__(self, data_file, label_file):\n",
    "        self.data = pd.read_csv(data_file, sep=',', header=0, index_col=0).values\n",
    "        self.label = pd.read_csv(label_file, header=0, index_col=0).values[:,1]\n",
    "        # self.data = torch.from_numpy(self.data).float().to(device)\n",
    "        self.label = self.label.astype(int)\n",
    "        # self.label = torch.from_numpy(self.label).long().to(device)\n",
    "\n",
    "    def __len__(self):\n",
    "        return len(self.label)\n",
    "\n",
    "    def __getitem__(self, idx):\n",
    "        return self.data[idx], self.label[idx]\n",
    "\n",
    "data_file = '/home/intern/WarmUpProject/p-tcga_binary_mutation.csv'\n",
    "label_file = '/home/intern/WarmUpProject/pp-TCGA-clinical.csv'\n",
    "\n",
    "dataset = MoannaDataset(data_file, label_file) \n",
    "X = dataset.data\n",
    "y = dataset.label\n",
    "\n",
    "X_train, X_test, y_train, y_test = train_test_split(X, y, test_size=0.3, random_state=42)\n",
    "\n"
   ]
  },
  {
   "cell_type": "code",
   "execution_count": 4,
   "metadata": {},
   "outputs": [
    {
     "name": "stdout",
     "output_type": "stream",
     "text": [
      "Accuracy: 0.33222701626286094\n"
     ]
    }
   ],
   "source": [
    "clf = RandomForestClassifier(n_estimators=500, max_depth=20, random_state=42)\n",
    "clf.fit(X_train, y_train)\n",
    "\n",
    "y_pred = clf.predict(X_test)\n",
    "\n",
    "accuracy = accuracy_score(y_test, y_pred)\n",
    "print(\"Accuracy:\", accuracy)\n"
   ]
  },
  {
   "cell_type": "code",
   "execution_count": 2,
   "metadata": {},
   "outputs": [
    {
     "name": "stdout",
     "output_type": "stream",
     "text": [
      "Accuracy: 0.32658479920345174\n"
     ]
    }
   ],
   "source": [
    "rf = RandomForestClassifier(n_estimators=300,\n",
    "                             max_depth=15,\n",
    "                             max_features=150,\n",
    "                             bootstrap=True,\n",
    "                             oob_score=True,\n",
    "                             random_state=42)\n",
    "\n",
    "rf.fit(X_train, y_train)\n",
    "\n",
    "y_pred = rf.predict(X_test)\n",
    "\n",
    "accuracy = accuracy_score(y_test, y_pred)\n",
    "print(\"Accuracy:\", accuracy)"
   ]
  },
  {
   "cell_type": "code",
   "execution_count": 4,
   "metadata": {},
   "outputs": [],
   "source": [
    "import torch\n",
    "import torch.nn as nn\n",
    "import torch.optim as optim\n",
    "from torch.utils.data import Subset, Dataset, DataLoader\n",
    "import pandas as pd\n",
    "import numpy as np\n",
    "from sklearn.metrics import accuracy_score, f1_score\n",
    "import matplotlib.pyplot as plt\n",
    "from sklearn.model_selection import train_test_split, GridSearchCV\n",
    "from sklearn.ensemble import RandomForestClassifier\n",
    "\n",
    "\n",
    "class MoannaDataset(Dataset):\n",
    "    def __init__(self, data_file, label_file):\n",
    "        self.data = pd.read_csv(data_file, sep=',', header=0, index_col=0).values\n",
    "        self.label = pd.read_csv(label_file, header=0, index_col=0).values[:,1]\n",
    "        # self.data = torch.from_numpy(self.data).float().to(device)\n",
    "        self.label = self.label.astype(int)\n",
    "        # self.label = torch.from_numpy(self.label).long().to(device)\n",
    "\n",
    "    def __len__(self):\n",
    "        return len(self.label)\n",
    "\n",
    "    def __getitem__(self, idx):\n",
    "        return self.data[idx], self.label[idx]\n",
    "\n",
    "data_file = '/home/intern/WarmUpProject/p-tcga_binary_mutation.csv'\n",
    "label_file = '/home/intern/WarmUpProject/pp-TCGA-clinical.csv'\n",
    "\n",
    "dataset = MoannaDataset(data_file, label_file) \n",
    "X = dataset.data\n",
    "y = dataset.label\n",
    "\n"
   ]
  },
  {
   "cell_type": "code",
   "execution_count": 7,
   "metadata": {},
   "outputs": [],
   "source": [
    "X_train, X_test, y_train, y_test = train_test_split(X, y, test_size=0.3, random_state=42)"
   ]
  },
  {
   "cell_type": "code",
   "execution_count": 8,
   "metadata": {},
   "outputs": [
    {
     "name": "stdout",
     "output_type": "stream",
     "text": [
      "Best Parameters:  {'max_depth': None, 'max_features': 'auto', 'min_samples_leaf': 2, 'min_samples_split': 2, 'n_estimators': 200}\n",
      "Best Accuracy Score:  0.4159087388568564\n",
      "Best F1 Score:  0.30538894211662165\n",
      "Accuracy on Test Set:  0.41885164288084964\n",
      "F1 Score (Macro) on Test Set:  0.30644265337289484\n"
     ]
    }
   ],
   "source": [
    "from sklearn.metrics import make_scorer\n",
    "\n",
    "# 定义随机森林模型的参数空间\n",
    "param_grid = {\n",
    "    'n_estimators': [50, 100, 200],\n",
    "    'max_depth': [5, 10, 15, None],\n",
    "    'min_samples_split': [2, 5, 10],\n",
    "    'min_samples_leaf': [1, 2, 4],\n",
    "    'max_features': ['auto', 'sqrt']\n",
    "}\n",
    "\n",
    "# 定义评估指标\n",
    "scoring = {\n",
    "    'accuracy': make_scorer(accuracy_score),\n",
    "    'f1_macro': make_scorer(f1_score, average='macro')\n",
    "}\n",
    "\n",
    "# 定义随机森林模型\n",
    "rf_clf = RandomForestClassifier(random_state=42)\n",
    "\n",
    "# 进行网格搜索以寻找最佳参数组合\n",
    "grid_search = GridSearchCV(rf_clf, param_grid=param_grid, cv=5, scoring=scoring, refit='accuracy')\n",
    "grid_search.fit(X_train, y_train)\n",
    "\n",
    "# 输出最佳参数和最佳评估指标\n",
    "print(\"Best Parameters: \", grid_search.best_params_)\n",
    "print(\"Best Accuracy Score: \", grid_search.best_score_)\n",
    "print(\"Best F1 Score: \", grid_search.cv_results_['mean_test_f1_macro'][grid_search.best_index_])\n",
    "\n",
    "# 在测试集上评估模型\n",
    "y_pred = grid_search.predict(X_test)\n",
    "accuracy = accuracy_score(y_test, y_pred)\n",
    "f1_macro = f1_score(y_test, y_pred, average='macro')\n",
    "\n",
    "print(\"Accuracy on Test Set: \", accuracy)\n",
    "print(\"F1 Score (Macro) on Test Set: \", f1_macro)\n"
   ]
  }
 ],
 "metadata": {
  "kernelspec": {
   "display_name": "base",
   "language": "python",
   "name": "python3"
  },
  "language_info": {
   "codemirror_mode": {
    "name": "ipython",
    "version": 3
   },
   "file_extension": ".py",
   "mimetype": "text/x-python",
   "name": "python",
   "nbconvert_exporter": "python",
   "pygments_lexer": "ipython3",
   "version": "3.9.7"
  },
  "orig_nbformat": 4
 },
 "nbformat": 4,
 "nbformat_minor": 2
}
